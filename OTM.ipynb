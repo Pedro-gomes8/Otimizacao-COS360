{
 "cells": [
  {
   "cell_type": "markdown",
   "source": " <center> <strong> PESC - Universidade Federal do Rio de Janeiro <br>\n Trabalho - Otimização - 2020.2 <br>\n Prof. Luidi Simonetti <br> <br>\n Mayara Azevedo Aragão<br>\n Pedro Henrique Gomes </strong> </center><br>",
   "metadata": {
    "tags": [],
    "cell_id": "00001-c37a3cd3-d0c7-4402-8d44-54edd1cfc9b5",
    "deepnote_cell_type": "markdown"
   }
  },
  {
   "cell_type": "markdown",
   "source": "### Funcao a ser utilizada:",
   "metadata": {
    "cell_id": "00001-89c8620d-b750-4c41-86f1-80ff3b84040f",
    "tags": [],
    "deepnote_cell_type": "markdown"
   }
  },
  {
   "cell_type": "markdown",
   "source": "&emsp;&emsp;&emsp;&emsp;&emsp;&emsp;&emsp;&emsp;&emsp;&emsp;&emsp;&emsp;&emsp;&emsp;&emsp;&emsp;&emsp;&emsp;&emsp;&emsp;&emsp;&emsp;&emsp;&emsp;\n$ f(x_1,x_2)=2^{x_{1}} + (x_1-x_2)^2 $ e $\\Omega = \\mathbb{R}^2$",
   "metadata": {
    "cell_id": "00002-4cbf1ca8-8555-4a90-8eee-283b8ae37248",
    "tags": [],
    "deepnote_cell_type": "markdown"
   }
  },
  {
   "cell_type": "markdown",
   "source": "#### Gradiente é dado por:\n&emsp;&emsp;&emsp;&emsp;&emsp;&emsp;&emsp;&emsp;&emsp;&emsp;&emsp;&emsp;&emsp;&emsp;&emsp;&emsp;&emsp;&emsp;&emsp;&emsp;&emsp;&emsp;&emsp;&emsp;&emsp;$ \t\\nabla f(x) = \\Bigg(\\begin{matrix}\n2x_1 + 2^{x_1}log(2)-2x_2\\\\\n2x_2 - 2x_1\\end{matrix}\\Bigg)$",
   "metadata": {
    "cell_id": "00003-c492c842-ca1a-45a5-90c9-f343d07a756b",
    "tags": [],
    "deepnote_cell_type": "markdown"
   }
  },
  {
   "cell_type": "markdown",
   "source": "#### Hessiana é dada por:\n&emsp;&emsp;&emsp;&emsp;&emsp;&emsp;&emsp;&emsp;&emsp;&emsp;&emsp;&emsp;&emsp;&emsp;&emsp;&emsp;&emsp;&emsp;&emsp;&emsp;&emsp;&emsp;&emsp;&emsp;&emsp;$ \t\\nabla ^2 f(x) = \\Bigg(\\begin{matrix}\n2^{x_1}log^2(2)+2 & -2\\\\\n-2 & 2\\end{matrix}\\Bigg)$",
   "metadata": {
    "cell_id": "00004-4d24af14-fde1-49f6-854b-022c87f1e6c9",
    "tags": [],
    "deepnote_cell_type": "markdown"
   }
  },
  {
   "cell_type": "markdown",
   "source": "### Análise inicial:\n&emsp;Nenhuma restrição de domínio $ (\\Omega = \\mathbb{R}^2)$<br>\n&emsp;Fazendo uma análise intuitiva da função, se quisermos minimizar a função, algumas observações podem ser tomadas instantaneamente:",
   "metadata": {
    "cell_id": "00003-5935e123-16d5-4bad-94f7-47f3875b75a6",
    "tags": [],
    "deepnote_cell_type": "markdown"
   }
  },
  {
   "cell_type": "markdown",
   "source": "1) Conjunto $\\mathbb{R}^2$ convexo (é possível chegar a qualquer ponto de $\\mathbb{R}^2$ a partir de uma semireta sem sair do conjunto $\\mathbb{R}^2$), irrestrito.<br><br>\n2) Função continua mas não coerciva (quando $x_1 = x_2$, ou seja $x_1 - x_2 = 0$, se lim $ x_1 \\rightarrow - \\infty$ , temos que nossa função $f(x) \\rightarrow 0$), então não podemos afirmar, ainda, por essa propriedade, que há um mínimo global.<br><br>\n3) Seus termos são sempre NÃO negativos. Ao tentar minimizar, $x_2$ deve ser igual a $x_1$. Caso contrario, $(x_1 - x_2)^2$ sempre adicionará algum valor positivo a função. Logo, a chave da questão está em $2^{x_1}$, que não possui mínimo, pois a função sempre irá decrescer com a diminuição de $x_1$, mas nunca alcancará o $0$. Logo,  nossa função não possui ótimo.  \n",
   "metadata": {
    "cell_id": "00004-c8234bc1-1c86-4a9e-8a30-fe33d695bd9a",
    "tags": [],
    "deepnote_cell_type": "markdown"
   }
  },
  {
   "cell_type": "markdown",
   "source": "#### Análise da Hessiana da função:\n- Seja $D$ um vetor qualquer $D = \\Bigg(\\begin{matrix} d_1\\\\d_2\\end{matrix}\\Bigg)$\n- Calculando $(D^T \\cdot Hessiana \\cdot D) $ : <br><br>\n&emsp;&emsp;&emsp;$\\Bigg ( \\begin{matrix}d_1 & d_2 \\end{matrix} \\Bigg) \\Bigg(\\begin{matrix}\n2^{x_1}log^2(2)+2 & -2\\\\\n-2 & 2\\end{matrix}\\Bigg) \\Bigg (\\begin{matrix} d_1 \\\\ d_2 \\end{matrix}\\Bigg)$<br><br>\n&emsp;&emsp;&emsp; $\\Bigg (\\begin{matrix}d_1(2^{x_1}log^2(2)+2) -2d_2 & -2d_1 + 2d_2\\end{matrix}\\Bigg)\\Bigg (\\begin{matrix} d_1 \\\\ d_2 \\end{matrix}\\Bigg)$<br><br>\n&emsp;&emsp;&emsp; Chamando $2^{x_1}log^2(2)+2$ de $A$, temos $Ad_1^2 - 4d_1d_2 + 4d_2^2$<br><br>\n&emsp;&emsp;&emsp; Adicionando e subtraindo $(A-1)d_1^2$ : $Ad_1^2 - 4d_1d_2 + 4d_2^2 -(A - 1)d_1^2 + (A-1)d_1^2$, temos que:<br><br>\n&emsp;&emsp;&emsp; $(d_1 - 2d_2)^2 + (A-1)d_1^2$ . Como A = $2^{x_1}log^2(2)+2$,<br><br>\n&emsp;&emsp;&emsp;  $D^T \\cdot Hessiana \\cdot D$ = $(d_1 - 2d_2)^2+(2^{x_1}log^2(2)+1)d_1^2 $ <br>\n\n",
   "metadata": {
    "cell_id": "00007-51d667e6-ff1b-4396-9cd7-2513cc049f36",
    "tags": [],
    "deepnote_cell_type": "markdown"
   }
  },
  {
   "cell_type": "markdown",
   "source": "Isso é sempre não negativo. Logo, para qualquer $x_1,x_2$ da função $f(x)$, tem-se que a Hessiana é <strong>semi-definida positiva <strong>.<br><br>",
   "metadata": {
    "tags": [],
    "cell_id": "00008-c88ad83f-bb9a-4db5-bd9a-dcd35c222ae9",
    "deepnote_cell_type": "markdown"
   }
  },
  {
   "cell_type": "markdown",
   "source": "Importando bibliotecas para implementar o projeto:",
   "metadata": {
    "tags": [],
    "cell_id": "00008-63a9cee8-0753-4c6a-b795-60ed2dbf26c8",
    "deepnote_cell_type": "markdown"
   }
  },
  {
   "cell_type": "code",
   "metadata": {
    "cell_id": "00000-e5548486-fa9b-405b-a389-1d5a344d4ce2",
    "deepnote_to_be_reexecuted": false,
    "execution_millis": 822,
    "execution_start": 1622316983533,
    "source_hash": "43dab950",
    "tags": [],
    "deepnote_cell_type": "code"
   },
   "source": "import pandas as pd\nimport numpy as np\nimport matplotlib.pyplot as plt\nfrom mpl_toolkits.mplot3d import Axes3D\nimport math\n%matplotlib inline\n",
   "execution_count": 1,
   "outputs": []
  },
  {
   "cell_type": "markdown",
   "source": "Definindo a função, o gradiente e a Hessiana calculadas, para aplicar nos métodos sugeridos:",
   "metadata": {
    "tags": [],
    "cell_id": "00008-77af483d-94b3-4a78-96b4-395982990421",
    "deepnote_cell_type": "markdown"
   }
  },
  {
   "cell_type": "code",
   "metadata": {
    "cell_id": "00002-eca22b75-29bb-445c-a02e-94569b11ea95",
    "deepnote_to_be_reexecuted": false,
    "execution_millis": 4,
    "execution_start": 1622328579604,
    "source_hash": "e0f1f030",
    "tags": [],
    "deepnote_cell_type": "code"
   },
   "source": "def function(xn):\n    x1= xn[0][0]\n    x2 = xn[1][0]\n    return (2**x1 +(x1-x2)**2)\n\ndef f_1(xn):\n    x1= xn[0][0]\n    x2 = xn[1][0]\n    return (2**x1)\n\ndef f_2(xn):\n    x1= xn[0][0]\n    x2 = xn[1][0]\n    return (x1-x2)**2\n\ndef gradiente(xn):\n    x1 = xn[0][0]\n    x2 = xn[1][0]\n    return np.array((2*x1+2**x1*math.log(2) - 2*x2,2*x2-2*x1),dtype='double').reshape(2,1)\n\ndef hessian(xn):\n    x1 = xn[0][0]\n    x2 = xn[1][0]\n    return np.array(([2**x1*math.log(2)**2+2, -2],\n                                    [-2,-2]),dtype='double').reshape(2,2)",
   "execution_count": 168,
   "outputs": []
  },
  {
   "cell_type": "markdown",
   "source": "Plotando o gráfico de $f(x)$ e separando a função em duas partes diferentes para análise, $f_1(x) = 2^{x_1}$ e  $f_2(x) = (x_1 - x_2)^2$.",
   "metadata": {
    "tags": [],
    "cell_id": "00010-82b19c40-e36a-4d31-a5b4-9e3067756dcc",
    "deepnote_to_be_reexecuted": false,
    "source_hash": "e1e20482",
    "execution_start": 1622322814852,
    "execution_millis": 9,
    "deepnote_cell_type": "markdown"
   },
   "outputs": [],
   "execution_count": 88
  },
  {
   "cell_type": "code",
   "metadata": {
    "cell_id": "00004-19008686-1341-48c9-82a8-2831dfa7e694",
    "deepnote_to_be_reexecuted": false,
    "execution_millis": 9231,
    "execution_start": 1622328582926,
    "output_cleared": false,
    "source_hash": "1973463c",
    "tags": [],
    "deepnote_cell_type": "code"
   },
   "source": "x1 = np.linspace(-5,5,150)\nx2 = np.linspace(-5,5,150)\nx1, x2 = np.meshgrid(x1, x2)\nfig = plt.figure(figsize=(13,13))\nxn = np.array(([x1],[x2]))\nz1 = function(xn)\nax = fig.add_subplot(131, projection='3d')\nax.set_xlabel('x1',fontsize=15)\nax.set_ylabel('x2',fontsize=15)\nax.set_zlabel('z',fontsize=15)\nax.set_title('f(x)');\nsurf1 = ax.plot_surface(x1, x2, z1, rstride=1, cstride=1,linewidth=0, antialiased=False,cmap='plasma',label='f(x1,x2)')\n\n# ax.zaxis.set_rotate_label(Fadefse)\n#ax.set_zlim(-1, 1)\nax2 = fig.add_subplot(132, projection='3d')\nax2.set_xlabel('x1',fontsize=15)\nax2.set_ylabel('x2',fontsize=15)\nax2.set_zlabel('z',fontsize=15)\nax2.set_title('f1(x) = 2^x1');\nz2 = f_1(xn)\n\nsurf2 = ax2.plot_surface(x1, x2, z2, rstride=1, cstride=1,linewidth=0, antialiased=False, cmap='Spectral')\n\n\nvector_func2 = np.vectorize(f_2)\nax3 = fig.add_subplot(133, projection='3d')\nax3.set_xlabel('x1',fontsize=15)\nax3.set_ylabel('x2',fontsize=15)\nax3.set_zlabel('z',fontsize=15)\nax3.set_title('f2(x) = (x1 - x2)^2');\nz3 = f_2(xn)\nplt.tight_layout()\nsurf3 = ax3.plot_surface(x1, x2, z3, rstride=1, cstride=1,linewidth=0, antialiased=False , cmap='terrain')\n",
   "execution_count": 169,
   "outputs": [
    {
     "data": {
      "text/plain": "<Figure size 936x936 with 3 Axes>",
      "image/png": "[encoded data removed]"
     },
     "metadata": {
      "needs_background": "light",
      "image/png": {
       "width": 956,
       "height": 328
      }
     },
     "output_type": "display_data"
    }
   ]
  },
  {
   "cell_type": "markdown",
   "source": "&emsp;&emsp;&emsp;É possivel, com base nos gráficos, comprovar o estudo que haviamos feito anteriormente, onde percebemos que além da função $f(x) \\ge 0$ para qualquer vetor $x$, a função diminui conforme os valores de $x_1$ e $x_2$ tendem a $- \\infty$ e $ x_1 = x_2$.\n\n&emsp;&emsp;&emsp;Pelo gráfico de $f_1$, percebendo que $f_1 (x)_{x_1 \\rightarrow -\\infty} \\rightarrow 0$, concluimos que a primeira parte da função $f(x)$ não define um $x^*$ minimizador ótimo para $f_1(x)$, e nunca conseguiremos atingir $\\nabla f(x) = 0 $ (gradiente nulo), essa parte da função determina o comportamento do mínimo na função $f(x)$, já que o mínimo não é atingido.\n\n&emsp;&emsp;&emsp;Já para a segunda parte da função, $f_2(x)$, a função tem mínimo quando $f_2(x) = 0$, para todos os vetores $x^*$ que atendem $x_1=x_2$, para quaisquer valores de $x_1$.\n\n&emsp;&emsp;&emsp;Podemos, portanto, aplicar os algoritmos a seguir para a parte da função $f_2(x)$, na intenção de convergir o método quando o gradiente é exatamente igual a $0$, pois para a função completa $f(x)$, o esperado, com base no estudo feito da função, é não encontrar o mínimo e nem o gradiente igual a $0$ exatamente.\n",
   "metadata": {
    "tags": [],
    "cell_id": "00012-3dc3babe-5109-43c4-a81f-664da99cbfe9",
    "deepnote_cell_type": "markdown"
   }
  },
  {
   "cell_type": "markdown",
   "source": "Portanto, definindo as funções para aplicar os métodos na parte $f_2 (x) = (x_1 - x_2 )^2$, com intuito de convergir os métodos, pois essa parte da função, determina que quando $x_1 = x_2$ teremos $\\nabla f(x) = 0$:\n",
   "metadata": {
    "tags": [],
    "cell_id": "00013-127e946a-53fd-4789-87c2-0aaf43c5658e",
    "deepnote_cell_type": "markdown"
   }
  },
  {
   "cell_type": "code",
   "source": "def gradiente2(xn):\n    x1 = xn[0][0]\n    x2 = xn[1][0]\n    return np.array((2*x1-2*x2,2*x2-2*x1),dtype='double').reshape(2,1)\n\ndef hessian2(xn):\n    return np.array(([2, -2],[-2,2]),dtype='double').reshape(2,2)",
   "metadata": {
    "tags": [],
    "cell_id": "00012-f8cb2a28-01e6-4189-9677-dd9d0ffd4801",
    "deepnote_to_be_reexecuted": false,
    "source_hash": "6015f760",
    "execution_start": 1622326966635,
    "execution_millis": 5,
    "deepnote_cell_type": "code"
   },
   "outputs": [],
   "execution_count": 156
  },
  {
   "cell_type": "markdown",
   "source": "#### Definindo armijo:",
   "metadata": {
    "cell_id": "00008-e72988eb-7f2a-443d-b543-8ed8437f3c42",
    "tags": [],
    "deepnote_cell_type": "markdown"
   }
  },
  {
   "cell_type": "code",
   "metadata": {
    "cell_id": "00005-1b1eba7f-88af-4894-afaa-1b504ab311a5",
    "deepnote_to_be_reexecuted": false,
    "execution_millis": 1,
    "execution_start": 1622316993641,
    "source_hash": "d4c185ac",
    "tags": [],
    "deepnote_cell_type": "code"
   },
   "source": "def armijo(funcao,gradiente,x0,d,gama,n,t=1):\n    assert n < 1\n    assert n > 0\n    iteracao = 0\n    x=x0\n    while funcao(x+t*d) > (funcao(x)+ n*t*np.dot(gradiente(x).T,d)):\n        if iteracao == 200:\n            print('Limite de iteracoes atingido')\n            return(x+t*d,iteracao)\n        t = gama*t\n        iteracao += 1\n    return(x+t*d,iteracao) ",
   "execution_count": 5,
   "outputs": []
  },
  {
   "cell_type": "markdown",
   "source": "#### Definindo o Método do Gradiente\n\nPara este Método, adotamos o seguinte critério de parada:<br>\n- $\t\\nabla f(x^k)=0$ de acordo com certa tolerância",
   "metadata": {
    "cell_id": "00015-31d255aa-5326-47d7-95eb-056de9518c6b",
    "tags": [],
    "deepnote_cell_type": "markdown"
   }
  },
  {
   "cell_type": "code",
   "metadata": {
    "cell_id": "00014-f07df664-b2aa-4715-bf61-7dc354522552",
    "deepnote_to_be_reexecuted": false,
    "execution_millis": 3,
    "execution_start": 1622328821758,
    "source_hash": "808a880",
    "tags": [],
    "deepnote_cell_type": "code"
   },
   "source": "def gradientMethod(funcao,gradiente,x0,gama,n,err,t=1):\n    k=0\n    iteracoesArmijo = 0\n    x = x0\n    erro=0\n    # while (np.allclose(gradiente(x),[0.0,0.0],atol=err)):\n    while not (np.allclose(gradiente(x),[[0.0],[0.0]],atol=err,rtol=0)):\n    \n        d = (-gradiente(x))\n        x,iArmijo = armijo(funcao,gradiente,x,d,gama,n,t)\n        iteracoesArmijo += iArmijo\n        k += 1\n        erro = np.abs(gradiente(x)-[[0.0],[0.0]])\n    \n    return(x,k,iteracoesArmijo,erro)",
   "execution_count": 199,
   "outputs": []
  },
  {
   "cell_type": "code",
   "metadata": {
    "cell_id": "00015-d81c78fb-54f2-404b-9e9a-5d85c794ab85",
    "deepnote_to_be_reexecuted": false,
    "execution_millis": 23007,
    "execution_start": 1622316994235,
    "source_hash": "69242641",
    "tags": [],
    "deepnote_cell_type": "code"
   },
   "source": "otimo,k,armijos,erro1 = gradientMethod(function,gradiente,[[10],[20]],0.7,0.5,1e-5)",
   "execution_count": 9,
   "outputs": []
  },
  {
   "cell_type": "code",
   "metadata": {
    "cell_id": "00016-4c07c6ad-b726-4015-b111-05865a350c0b",
    "deepnote_to_be_reexecuted": false,
    "execution_millis": 9,
    "execution_start": 1622320148858,
    "source_hash": "72df73b7",
    "tags": [],
    "deepnote_cell_type": "code"
   },
   "source": "print(f'Para t=1:\\notimo:\\n{otimo}\\nIteracoes:{k}\\nArmijoCalls:{armijos}\\nResultado de f: {function(otimo)}')",
   "execution_count": 78,
   "outputs": [
    {
     "name": "stdout",
     "text": "Para t=1:\notimo:\n[[-15.17208979]\n [-15.17208541]]\nIteracoes:223411\nArmijoCalls:320356\nResultado de f: 2.7086081681086134e-05\n",
     "output_type": "stream"
    }
   ]
  },
  {
   "cell_type": "markdown",
   "source": "Para $t=1$, descobrimos $x=\\Bigg(\\begin{matrix}-15.17208979 \\\\ -15.17208541\\end{matrix}\\Bigg)$ o que da um resultado $f(x)\\simeq2.7*10^-5$",
   "metadata": {
    "tags": [],
    "cell_id": "00019-5903fa65-09d5-4433-a410-2723e1f46b7e",
    "deepnote_cell_type": "markdown"
   }
  },
  {
   "cell_type": "markdown",
   "source": "Decidimos entao aumentar tamanho do passo t e deixar a tolerancia ainda menor para ver o que acontece. $t=10$:",
   "metadata": {
    "tags": [],
    "cell_id": "00020-62dfa3f2-3108-4075-a632-89691f0e371b",
    "deepnote_cell_type": "markdown"
   }
  },
  {
   "cell_type": "code",
   "metadata": {
    "cell_id": "00015-04353ffc-0068-49ca-b79b-51533c9f5de1",
    "deepnote_to_be_reexecuted": false,
    "execution_millis": 257680,
    "execution_start": 1622324014750,
    "source_hash": "dd4ab4c8",
    "tags": [],
    "deepnote_cell_type": "code"
   },
   "source": "otimo100,k100,armijos100,erro100 = gradientMethod(function,gradiente,[[10],[20]],0.7,0.5,1e-6,10)",
   "execution_count": 95,
   "outputs": []
  },
  {
   "cell_type": "code",
   "metadata": {
    "cell_id": "00017-b115e9c1-7932-41f6-90fb-e2cb63421f4f",
    "deepnote_to_be_reexecuted": false,
    "execution_millis": 6,
    "execution_start": 1622331779083,
    "source_hash": "21b2b4e6",
    "tags": [],
    "deepnote_cell_type": "code"
   },
   "source": "print(f'Para t=10:\\notimo:\\n{otimo100}\\nIteracoes:{k100}\\nArmijoCalls:{armijos100}\\nResultado de f: {function(otimo100)}')",
   "execution_count": 291,
   "outputs": [
    {
     "name": "stdout",
     "text": "Para t=10:\notimo:\n[[-18.62436025]\n [-18.62435975]]\nIteracoes:1089233\nArmijoCalls:8389957\nResultado de f: 2.4746225046347655e-06\n",
     "output_type": "stream"
    }
   ]
  },
  {
   "cell_type": "markdown",
   "source": "Conclusões sobre a aplicação do Método do Gradiente na função $\nf(x)$:<br><br>\n&emsp;&emsp;&emsp;Aumentando o passo e diminuindo a tolerância, temos um valor mais proximo de 0. Porém, observando o número de iterações, saindo de aproximadamente 200mil para 1.1M e o número de loops de armijo de aprox. 320mil para 8.4M.<br>\n&emsp;&emsp;&emsp;Pode-se concluir que, para um problema sem ótimo, adaptar novos parâmetros de forma aprimorar a minimização da função objetivo nunca trará resultados satisfatorios suficientes, já que sempre haverá um resultado melhor e para cada resultado melhor encontrado, mais recursos computacionais são utilizados. \n<br>\n&emsp;&emsp;&emsp; Para  explorar o uso do algoritmo utilizando uma função que possui mínimo (onde o gradiente é exatamente igual a 0), podemos aplicar o método para a função $f_2(x)$ definida anteriormente, onde os mínimos se encontram nos pontos em que $x_1 = x_2$:",
   "metadata": {
    "tags": [],
    "cell_id": "00023-e19f7036-948b-40f3-a89e-6fe2a122d856",
    "deepnote_cell_type": "markdown"
   }
  },
  {
   "cell_type": "code",
   "source": "#Começando do mesmo ponto estudado em f2(x) acima:\n\notimo_f2,k_f2,armijos_f2,erro_f2 = gradientMethod(f_2,gradiente2,[[10],[20]],0.5,0.5,1e-6,1)\nprint(f'Para t=1 em f_2:\\notimo:{otimo_f2}\\nIteracoes:{k_f2}\\nArmijoCalls:{armijos_f2}\\nResultado de f: {f_2(otimo_f2)}')",
   "metadata": {
    "tags": [],
    "cell_id": "00027-770550ca-8d8b-46f8-8948-35d7e7a15e11",
    "deepnote_to_be_reexecuted": false,
    "source_hash": "69bcb636",
    "execution_start": 1622337233602,
    "execution_millis": 9,
    "deepnote_cell_type": "code"
   },
   "outputs": [
    {
     "name": "stdout",
     "text": "Para t=1 em f_2:\notimo:[[15.]\n [15.]]\nIteracoes:1\nArmijoCalls:2\nResultado de f: 0.0\n",
     "output_type": "stream"
    }
   ],
   "execution_count": 350
  },
  {
   "cell_type": "code",
   "source": "#Começando do mesmo ponto estudado em f2(x) acima com t=10:\n\notimo_f2,k_f2,armijos_f2,erro_f2 = gradientMethod(f_2,gradiente2,[[10],[20]],0.8,0.5,1e-6,10)\nprint(f'Para t=10 em f_2:\\notimo:{otimo_f2}\\nIteracoes:{k_f2}\\nArmijoCalls:{armijos_f2}\\nResultado de f: {f_2(otimo_f2)}')",
   "metadata": {
    "tags": [],
    "cell_id": "00027-e6a962ca-16e9-4600-89e3-9c0b572458ef",
    "deepnote_to_be_reexecuted": false,
    "source_hash": "74d53b79",
    "execution_start": 1622337239306,
    "execution_millis": 9,
    "deepnote_cell_type": "code"
   },
   "outputs": [
    {
     "name": "stdout",
     "text": "Para t=10 em f_2:\notimo:[[14.99999995]\n [15.00000005]]\nIteracoes:8\nArmijoCalls:136\nResultado de f: 8.908272927523144e-15\n",
     "output_type": "stream"
    }
   ],
   "execution_count": 351
  },
  {
   "cell_type": "code",
   "source": "#Começando de um ponto de mínimo (G(x) = 0):\n\notimo_f2,k_f2,armijos_f2,erro_f2 = gradientMethod(f_2,gradiente2,[[10],[10]],0.7,0.5,1e-6,1)\nprint(f'Para t=1 em f_2:\\notimo:{otimo_f2}\\nIteracoes:{k_f2}\\nArmijoCalls:{armijos_f2}\\nResultado de f: {f_2(otimo_f2)}')",
   "metadata": {
    "tags": [],
    "cell_id": "00027-18cb6faf-e25b-424b-a31a-66e75415c806",
    "deepnote_to_be_reexecuted": false,
    "source_hash": "16ed410e",
    "execution_start": 1622337248058,
    "execution_millis": 11,
    "deepnote_cell_type": "code"
   },
   "outputs": [
    {
     "name": "stdout",
     "text": "Para t=1 em f_2:\notimo:[[10], [10]]\nIteracoes:0\nArmijoCalls:0\nResultado de f: 0\n",
     "output_type": "stream"
    }
   ],
   "execution_count": 352
  },
  {
   "cell_type": "markdown",
   "source": "Podemos perceber que para uma função com $x^*$ mínimo localizável, o método convergiu rapidamente, com até 1 iteração, dependendo do ajuste dos parametros de $\\gamma$, $t$ e $n$, enquanto começando em um ponto de mínimo, a função não faz nenhuma iteração, pois o gradiente $\\nabla f_2(x)$  já é igual a $0$.",
   "metadata": {
    "tags": [],
    "cell_id": "00030-c3e811b2-140f-4f70-a6b6-c91bcd283abb",
    "deepnote_cell_type": "markdown"
   }
  },
  {
   "cell_type": "markdown",
   "source": "#### Definindo Método de Newton",
   "metadata": {
    "cell_id": "00016-cf1fa054-4520-4239-9927-e7f3f71b7401",
    "deepnote_to_be_reexecuted": false,
    "execution_millis": 3,
    "execution_start": 1622248656861,
    "source_hash": "2b5662f4",
    "tags": [],
    "deepnote_cell_type": "markdown"
   }
  },
  {
   "cell_type": "markdown",
   "source": "Primeiramente, definimos como calcular a função inversa da Hessiana $(H^{-1})$. Para isso, como a Hessiana é uma matriz 2x2, usamos o seguinte truque: $A^{-1} = 1/det(A) * $ (inversão dos valores da diagonal principal e troca de sinal dos valores da outra diagonal):",
   "metadata": {
    "tags": [],
    "cell_id": "00026-0f1c80cf-d3e1-424f-84e8-017d99d1f13e",
    "deepnote_cell_type": "markdown"
   }
  },
  {
   "cell_type": "code",
   "metadata": {
    "cell_id": "00020-c38501ae-01b0-4227-8cb7-dc343077f0a9",
    "deepnote_to_be_reexecuted": false,
    "execution_millis": 1,
    "execution_start": 1622317225660,
    "source_hash": "e846cb58",
    "tags": [],
    "deepnote_cell_type": "code"
   },
   "source": "def inversaMatrizQuadrada(hessiana,X):\n    hessianaAplicada = hessiana(X)\n    det = hessianaAplicada[0,0]*hessianaAplicada[1,1] - hessianaAplicada[0,1]*hessianaAplicada[1,0]\n    if det == 0:\n        raise ValueError('matriz singular! nao eh possivel inverter!')\n    inversa = 1.0/det * np.array(([hessianaAplicada[1,1],-hessianaAplicada[0,1]],[-hessianaAplicada[1,0],hessianaAplicada[0,0]]),dtype='double')\n    return inversa  \n",
   "execution_count": 15,
   "outputs": []
  },
  {
   "cell_type": "markdown",
   "source": "Para o Método de Newton, adotamos os seguintes critérios de parada:<br>\n- $\t\\nabla f(x^k)=0$ de acordo com certa tolerância\n- Para $x^k = x^{k-1}$.\n- Para $k > 1000$",
   "metadata": {
    "tags": [],
    "cell_id": "00029-fc56a729-b3e9-4b63-abe4-918412fe74ee",
    "deepnote_cell_type": "markdown"
   }
  },
  {
   "cell_type": "code",
   "metadata": {
    "cell_id": "00020-3ded5272-3fe3-487a-8c52-74b97739b1ff",
    "deepnote_to_be_reexecuted": false,
    "execution_millis": 1,
    "execution_start": 1622340951498,
    "source_hash": "d3a93c27",
    "tags": [],
    "deepnote_cell_type": "code"
   },
   "source": "def newtonMethod(funcao,gradiente,x0,gama,n,err,useArmijo=False):\n    x=x0\n    k=0\n    iteracoesArmijo = 0\n    erro=0\n    while not (np.allclose(gradiente(x),[[0.0],[0.0]],atol=err,rtol=0)):\n        erro = np.abs(gradiente(x)-[[0.0],[0.0]])\n        tmp = x\n        inversa = inversaMatrizQuadrada(hessian,x)\n        d = -1*np.dot(inversa,gradiente(x))\n        if useArmijo:\n            x,iArmijo = armijo(funcao,gradiente,x,d,gama,n,useArmijo)\n            iteracoesArmijo += iArmijo\n        else:\n            x = x + 1*d\n        if (np.allclose(x,tmp,rtol=0,atol=err) and k>40):\n            print('Condicao de parada atingida, ponto x de minimo nao modificado (x^k = x^(k-1))')\n            return(x,k,iteracoesArmijo,erro) \n        k += 1\n        if k>1000:\n            print('Condicao de parada, iteracao > 1000 atingida!')\n            return(x,k,iteracoesArmijo,erro)\n    \n        \n    print(f'Metodo convergiu para tolerancia: {err}')\n    return(x,k,iteracoesArmijo,erro)",
   "execution_count": 378,
   "outputs": []
  },
  {
   "cell_type": "code",
   "metadata": {
    "cell_id": "00024-53fbf6d7-0660-43d8-9d49-969d9c95a147",
    "deepnote_to_be_reexecuted": false,
    "execution_millis": 12,
    "execution_start": 1622332293870,
    "output_cleared": false,
    "source_hash": "2cba8b8f",
    "tags": [],
    "deepnote_cell_type": "code"
   },
   "source": "#Para valores onde x1!=x2:\n\notimoNtn,kNtn,armNtn,erroNtn = newtonMethod(function,gradiente,[[-9],[-1]],0.6,0.6,1e-6,useArmijo=1)\nprint(f'Para t=1 :\\notimo:\\n{otimoNtn}\\nIteracoes:{kNtn}\\nArmijoCalls:{armNtn}\\nResultado de f: {function(otimoNtn)}')",
   "execution_count": 295,
   "outputs": [
    {
     "name": "stdout",
     "text": "Condicao de parada atingida, ponto x de minimo nao modificado (x^k = x^(k-1))\nPara t=1 :\notimo:\n[[-1.14100436]\n [-0.86136359]]\nIteracoes:41\nArmijoCalls:2550\nResultado de f: 0.5316427522574392\n",
     "output_type": "stream"
    }
   ]
  },
  {
   "cell_type": "code",
   "metadata": {
    "cell_id": "00028-927fdbfd-0154-46a8-ba6b-3b50b8c40f4e",
    "deepnote_to_be_reexecuted": false,
    "source_hash": "7ced6642",
    "execution_start": 1622330224108,
    "execution_millis": 16,
    "deepnote_cell_type": "code"
   },
   "source": "#Para valores próximos de 0 em um limite (x1=x2):\n\notimoNtn,kNtn,armNtn,erroNtn = newtonMethod(function,gradiente,[[-99],[-99]],0.7,0.5,1e-5,useArmijo=1)\nprint(f'Para t=1 :\\notimo:\\n{otimoNtn}\\nIteracoes:{kNtn}\\nArmijoCalls:{armNtn}\\nResultado de f: {function(otimoNtn)}')",
   "execution_count": 263,
   "outputs": [
    {
     "name": "stdout",
     "text": "Metodo convergiu para tolerancia: 1e-05\nPara t=1 :\notimo:\n[[-99], [-99]]\nIteracoes:0\nArmijoCalls:0\nResultado de f: 1.5777218104420236e-30\n",
     "output_type": "stream"
    }
   ]
  },
  {
   "cell_type": "code",
   "source": "#Para valores próximos onde f(x) -> infinito - Método pode tomar direção de subida:\n\notimoNtn,kNtn,armNtn,erroNtn = newtonMethod(function,gradiente,[[99],[99]],0.7,0.5,1e-5,useArmijo=1)\nprint(f'Para t=1 :\\notimo:\\n{otimoNtn}\\nIteracoes:{kNtn}\\nArmijoCalls:{armNtn}\\nResultado de f: {function(otimoNtn)}')",
   "metadata": {
    "tags": [],
    "cell_id": "00038-3a5d8393-829b-4709-897c-e238d6b98adc",
    "deepnote_to_be_reexecuted": false,
    "source_hash": "c49f5252",
    "execution_start": 1622335180909,
    "execution_millis": 21,
    "deepnote_cell_type": "code"
   },
   "outputs": [
    {
     "name": "stdout",
     "text": "Condicao de parada atingida, ponto x de minimo nao modificado (x^k = x^(k-1))\nPara t=1 :\notimo:\n[[5.90373474e+01]\n [6.58359908e+08]]\nIteracoes:41\nArmijoCalls:1280\nResultado de f: 1.0250162466423412e+18\n",
     "output_type": "stream"
    }
   ],
   "execution_count": 318
  },
  {
   "cell_type": "markdown",
   "source": "Conclusões sobre a aplicação do Método de Newton utilizando Armijo na função $f(x)$:<br><br>\n&emsp;&emsp;&emsp;\nPodemos perceber pelos resultados que o Método de Newton, quando aplicado em um ponto próximo à tendência de mínimo, tende a convergir para um valor onde $f(x) \\rightarrow 0$, dada uma tolerância de $10^{-5}$, corretamente esperado pelo método de minimização.<br>\n&emsp;&emsp;&emsp;\nO valor de $f(x^*)$ encontrado para $x_{k=0} = [-9,-1]^T$ foi de $0.5$ que é distante de $0$ (valor esperado), em $41$ iterações. Isto ocorreu pois a tolerância implementada no Método de Newton analiza o $x^{k-1}$ para comparar e estabelecer um critério de parada (quando $x^k \\cong x^{k-1}$), um mínimo de $40$ iterações e, caso satisfaça o critério estabelecido, parar o algoritmo.<br>\n&emsp;&emsp;&emsp;Percebemos também que quando $x_1 = x_2 = -99$, o método converge sem nenhuma iteração, sinal de que $f([-99, -99]^T)= mínimo$ para o algorítmo na tolerância estabelecida.<br>\n&emsp;&emsp;&emsp;Também utilizamos um critério de parada onde $k \\gt 1000$, já que ao aplicar o Método de Newton sem Armijo (Newton Puro), o algoritmo ficava indefinidamente rodando, e mesmo assim, pode encontrar valores longe de um valor baixo. Isto se deve ao fato de que o método de Newton pode ir para direção de aumento, ao invés de decréscimo, ou seja, o método não busca por um mínimo, mas sim por pontos estacionários do problema tratado, como no exemplo a seguir:\n\n",
   "metadata": {
    "tags": [],
    "cell_id": "00039-3d25a6f4-b76a-4fa3-bac2-1accd76211fe",
    "deepnote_cell_type": "markdown"
   }
  },
  {
   "cell_type": "code",
   "source": "otimoNtn,kNtn,armNtn,erroNtn = newtonMethod(function,gradiente,[[-14],[-5]],0.7,0.5,1e-5,useArmijo=False)\nprint(f'Para t=1 :\\notimo:\\n{otimoNtn}\\nIteracoes:{kNtn}\\nArmijoCalls:{armNtn}\\nResultado de f: {function(otimoNtn)}')",
   "metadata": {
    "tags": [],
    "cell_id": "00040-52897e5d-13f0-4e2f-aa0b-f9b24e031aed",
    "deepnote_to_be_reexecuted": false,
    "source_hash": "601be120",
    "execution_start": 1622334150593,
    "execution_millis": 15,
    "deepnote_cell_type": "code"
   },
   "outputs": [
    {
     "name": "stdout",
     "text": "Condicao de parada, iteracao > 1000 atingida!\nPara t=1 :\notimo:\n[[7.26330064e+002]\n [1.30195595e+218]]\nIteracoes:1001\nArmijoCalls:0\nResultado de f: inf\n/shared-libs/python3.7/py-core/lib/python3.7/site-packages/ipykernel_launcher.py:4: RuntimeWarning: overflow encountered in double_scalars\n  after removing the cwd from sys.path.\n",
     "output_type": "stream"
    }
   ],
   "execution_count": 314
  },
  {
   "cell_type": "markdown",
   "source": "&emsp;&emsp;&emsp;Como pode-se perceber no output acima, para um $ x = [-14,-5]^T$, o \"ótimo\" $x^*$ minimizador do problema é tal que $f(x^*)=+\\infty$, tendo $x^* = [7.26 \\cdot 10^2, 1.3 \\cdot 10^{218}]^T$, mostrando que o algoritmo seguiu uma direção de subida, ao invés de descida, na função.<br>\n&emsp;&emsp;&emsp;Além disso, o algoritmo parou devido ao critério de parada de limite de iterações(onde $k\\gt 1000$ ), mostrando que ele, obviamente, não convergiu na busca de um ponto estacionário do problema.",
   "metadata": {
    "tags": [],
    "cell_id": "00041-7ead18a0-f050-461b-b8f7-3915ec62ab92",
    "deepnote_cell_type": "markdown"
   }
  },
  {
   "cell_type": "markdown",
   "source": "#### Definindo Metodo de Quase Newton:",
   "metadata": {
    "cell_id": "00025-193e1be8-3d48-49ba-a13a-7f19fc615154",
    "tags": [],
    "deepnote_cell_type": "markdown"
   }
  },
  {
   "cell_type": "markdown",
   "source": "Utilizamos uma combinacao linear entre DFP e BFGS, através de um parâmetro alpha($\\alpha$) definido como 0.2 por default, mas que pode ser modificado para aprimorar o Método de acordo com a função.\n\nAdotamos o seguinte critério de parada:<br>\n- $\t\\nabla f(x^k)=0$ de acordo com certa tolerância",
   "metadata": {
    "tags": [],
    "cell_id": "00034-d2ca419a-b349-4366-9b55-5f35ea78cb90",
    "deepnote_cell_type": "markdown"
   }
  },
  {
   "cell_type": "code",
   "metadata": {
    "cell_id": "00024-b6a250a9-e2e6-4fdd-bef8-2372a5deacb0",
    "deepnote_to_be_reexecuted": false,
    "source_hash": "dd3c3717",
    "tags": [],
    "execution_start": 1622335321536,
    "execution_millis": 4,
    "deepnote_cell_type": "code"
   },
   "source": "def almostNewtonMethod(funcao,gradiente,x0,gama,n,err,h=np.eye(2),alpha=0.2,t=1):\n    x=x0\n    k=0\n    armijoCalls = 0\n    hes = h\n    erro=0\n    while not (np.allclose(gradiente(x),[[0.0],[0.0]],atol=err,rtol=0)):\n        tmp_x = x\n        tmp_gradient = gradiente(x)\n        d= np.dot(-hes,tmp_gradient)\n        x,iArmijo = armijo(funcao,gradiente,x,d,gama,n,t)\n        k += 1\n        armijoCalls += iArmijo\n        p = x - tmp_x\n        q = gradiente(x) - tmp_gradient\n        DFP = hes + np.dot(p,p.T)/np.dot(p.T,q) - np.dot(np.dot(np.dot(hes,q),q.T),hes)/np.dot(np.dot(q.T,hes),q)\n        BFGS_aux = (1+np.dot(np.dot(q.T,hes),q)/np.dot(p.T,q))[0][0]\n        BFGS_aux2 = np.dot(p,p.T)/np.dot(p.T,q)\n\n        BFGS = hes + np.dot(BFGS_aux,BFGS_aux2) - (np.dot(np.dot(p,q.T),hes) + np.dot(np.dot(hes,q),p.T))/np.dot(p.T,q)\n        hes = alpha*DFP + (1-alpha)*BFGS\n    \n        erro = np.abs(gradiente(x)-[[0.0],[0.0]])\n    return x,k,armijoCalls,erro\n\n",
   "execution_count": 320,
   "outputs": []
  },
  {
   "cell_type": "code",
   "source": "otimo_aNtn,k_aNtn,arm_aNtn,erro_aNtn = almostNewtonMethod(function,gradiente,[[-7],[-5]],0.8,0.7,1e-5)\nprint(f'Para alpha = 0.2 :\\notimo:\\n{otimo_aNtn}\\nIteracoes:{k_aNtn}\\nArmijoCalls:{arm_aNtn}\\nResultado de f: {function(otimo_aNtn)}')",
   "metadata": {
    "tags": [],
    "cell_id": "00045-cc3e82c4-735e-4fa9-999e-be86cdd6ac0b",
    "deepnote_to_be_reexecuted": false,
    "source_hash": "25715b04",
    "execution_start": 1622335507406,
    "execution_millis": 21,
    "deepnote_cell_type": "code"
   },
   "outputs": [
    {
     "name": "stdout",
     "text": "Para alpha = 0.2 :\notimo:\n[[-28.27255882]\n [-28.27255704]]\nIteracoes:41\nArmijoCalls:45\nResultado de f: 3.087137514135137e-09\n",
     "output_type": "stream"
    }
   ],
   "execution_count": 327
  },
  {
   "cell_type": "markdown",
   "source": "Um alpha ($\\alpha$) próximo de $1$ faz com que o Método de Quase Newton retorne resultados melhores de $f(x^*)$. Este valor de $\\alpha$ próximo de $1$ significa que a Hessiana é predominantemente calculada pelo Método DFP, já que nossa Hessiana é uma combinação linear dentre os dois métodos utilizando o parâmetro $\\alpha $ como referência.",
   "metadata": {
    "tags": [],
    "cell_id": "00046-40276f2a-a518-454d-8948-44f016cb580d",
    "deepnote_cell_type": "markdown"
   }
  },
  {
   "cell_type": "code",
   "source": "otimo_aNtn,k_aNtn,arm_aNtn,erro_aNtn = almostNewtonMethod(function,gradiente,[[-7],[-5]],0.8,0.7,1e-5,alpha=0.9)\nprint(f'Para alpha = 0.9 :\\notimo:\\n{otimo_aNtn}\\nIteracoes:{k_aNtn}\\nArmijoCalls:{arm_aNtn}\\nResultado de f: {function(otimo_aNtn)}')",
   "metadata": {
    "tags": [],
    "cell_id": "00047-fdc6fa86-700f-443c-a960-e219d5264ab1",
    "deepnote_to_be_reexecuted": false,
    "source_hash": "fe9e7fae",
    "execution_start": 1622336148456,
    "execution_millis": 21,
    "deepnote_cell_type": "code"
   },
   "outputs": [
    {
     "name": "stdout",
     "text": "Para alpha = 0.9 :\notimo:\n[[-45.66291141]\n [-45.66291433]]\nIteracoes:47\nArmijoCalls:69\nResultado de f: 8.518408952274329e-12\n",
     "output_type": "stream"
    }
   ],
   "execution_count": 330
  },
  {
   "cell_type": "code",
   "source": "# Partindo de um valor onde x1=x2=-99\n\notimo_aNtn,k_aNtn,arm_aNtn,erro_aNtn = almostNewtonMethod(function,gradiente,[[-99],[-99]],0.8,0.7,1e-5,alpha=0.9)\nprint(f'Para alpha = 0.9 :\\notimo:\\n{otimo_aNtn}\\nIteracoes:{k_aNtn}\\nArmijoCalls:{arm_aNtn}\\nResultado de f: {function(otimo_aNtn)}')",
   "metadata": {
    "tags": [],
    "cell_id": "00048-092900a3-68d3-4944-b265-85658291bbb9",
    "deepnote_to_be_reexecuted": false,
    "source_hash": "915e750f",
    "execution_start": 1622336240725,
    "execution_millis": 7,
    "deepnote_cell_type": "code"
   },
   "outputs": [
    {
     "name": "stdout",
     "text": "Para alpha = 0.9 :\notimo:\n[[-99], [-99]]\nIteracoes:0\nArmijoCalls:0\nResultado de f: 1.5777218104420236e-30\n",
     "output_type": "stream"
    }
   ],
   "execution_count": 335
  },
  {
   "cell_type": "code",
   "source": "# Partindo de um valor onde x1=x2=-99\n\notimo_aNtn,k_aNtn,arm_aNtn,erro_aNtn = almostNewtonMethod(function,gradiente,[[-99],[-98]],0.8,0.7,1e-5,alpha=0.9)\nprint(f'Para alpha = 0.9 :\\notimo:\\n{otimo_aNtn}\\nIteracoes:{k_aNtn}\\nArmijoCalls:{arm_aNtn}\\nResultado de f: {function(otimo_aNtn)}')",
   "metadata": {
    "tags": [],
    "cell_id": "00031-b039769f-2ca9-49dc-989f-e9abdfe654e9",
    "deepnote_to_be_reexecuted": false,
    "source_hash": "63710af5",
    "execution_start": 1622336286714,
    "execution_millis": 6,
    "deepnote_cell_type": "code"
   },
   "outputs": [
    {
     "name": "stdout",
     "text": "Para alpha = 0.9 :\notimo:\n[[-98.5000024]\n [-98.4999976]]\nIteracoes:17\nArmijoCalls:57\nResultado de f: 2.295294523961213e-11\n",
     "output_type": "stream"
    }
   ],
   "execution_count": 338
  },
  {
   "cell_type": "markdown",
   "source": "### Fazendo a tabela para comparar os Métodos:",
   "metadata": {
    "tags": [],
    "cell_id": "00033-c524339d-f7e6-444b-82e6-a9d01273b398",
    "deepnote_cell_type": "markdown"
   }
  },
  {
   "cell_type": "code",
   "source": "data= {'Metodo':['Gradiente','Newton','Quase Newton'],'x0':[[[10],[20]],[[-99],[-98]],[[-7],[-5]]],'iteracoes':[k100,kNtn,k_aNtn],'LoopArmijo':[armijos100,armNtn,mijo_aNtn],'\"otimos\"':[otimo100,otimoNtn,x_aNtn],'Opt. Value':[round(function(otimo100),10),function(otimoNtn),round(function(x_aNtn),10)],'Error':[np.linalg.norm(erro100),np.linalg.norm(erroNtn),np.linalg.norm(erro_aNtn)]}",
   "metadata": {
    "tags": [],
    "cell_id": "00034-94d0829d-793e-4f28-b32a-60e990447651",
    "deepnote_to_be_reexecuted": false,
    "source_hash": "533d871c",
    "execution_start": 1622329256143,
    "execution_millis": 1,
    "deepnote_cell_type": "code"
   },
   "outputs": [],
   "execution_count": 239
  },
  {
   "cell_type": "code",
   "source": "df = pd.DataFrame(data)\ndf.set_index('Metodo')",
   "metadata": {
    "tags": [],
    "cell_id": "00040-401d1669-731d-4bf4-8f62-e07af9a16b81",
    "deepnote_to_be_reexecuted": false,
    "source_hash": "9b02daf7",
    "execution_start": 1622329257017,
    "execution_millis": 14,
    "deepnote_cell_type": "code"
   },
   "outputs": [
    {
     "output_type": "execute_result",
     "execution_count": 240,
     "data": {
      "application/vnd.deepnote.dataframe.v2+json": {
       "row_count": 3,
       "column_count": 6,
       "columns": [
        {
         "name": "x0",
         "dtype": "object",
         "stats": {
          "unique_count": 3,
          "nan_count": 0,
          "categories": [
           {
            "name": "[[10], [20]]",
            "count": 1
           },
           {
            "name": "[[-99], [-98]]",
            "count": 1
           },
           {
            "name": "[[-7], [-5]]",
            "count": 1
           }
          ]
         }
        },
        {
         "name": "iteracoes",
         "dtype": "int64",
         "stats": {
          "unique_count": 3,
          "nan_count": 0,
          "min": "10",
          "max": "1089233",
          "histogram": [
           {
            "bin_start": 10,
            "bin_end": 108932.3,
            "count": 2
           },
           {
            "bin_start": 108932.3,
            "bin_end": 217854.6,
            "count": 0
           },
           {
            "bin_start": 217854.6,
            "bin_end": 326776.9,
            "count": 0
           },
           {
            "bin_start": 326776.9,
            "bin_end": 435699.2,
            "count": 0
           },
           {
            "bin_start": 435699.2,
            "bin_end": 544621.5,
            "count": 0
           },
           {
            "bin_start": 544621.5,
            "bin_end": 653543.8,
            "count": 0
           },
           {
            "bin_start": 653543.8,
            "bin_end": 762466.1,
            "count": 0
           },
           {
            "bin_start": 762466.1,
            "bin_end": 871388.4,
            "count": 0
           },
           {
            "bin_start": 871388.4,
            "bin_end": 980310.7000000001,
            "count": 0
           },
           {
            "bin_start": 980310.7000000001,
            "bin_end": 1089233,
            "count": 1
           }
          ]
         }
        },
        {
         "name": "LoopArmijo",
         "dtype": "int64",
         "stats": {
          "unique_count": 3,
          "nan_count": 0,
          "min": "11",
          "max": "8389957",
          "histogram": [
           {
            "bin_start": 11,
            "bin_end": 839005.6,
            "count": 2
           },
           {
            "bin_start": 839005.6,
            "bin_end": 1678000.2,
            "count": 0
           },
           {
            "bin_start": 1678000.2,
            "bin_end": 2516994.8,
            "count": 0
           },
           {
            "bin_start": 2516994.8,
            "bin_end": 3355989.4,
            "count": 0
           },
           {
            "bin_start": 3355989.4,
            "bin_end": 4194984,
            "count": 0
           },
           {
            "bin_start": 4194984,
            "bin_end": 5033978.6,
            "count": 0
           },
           {
            "bin_start": 5033978.6,
            "bin_end": 5872973.2,
            "count": 0
           },
           {
            "bin_start": 5872973.2,
            "bin_end": 6711967.8,
            "count": 0
           },
           {
            "bin_start": 6711967.8,
            "bin_end": 7550962.399999999,
            "count": 0
           },
           {
            "bin_start": 7550962.399999999,
            "bin_end": 8389957,
            "count": 1
           }
          ]
         }
        },
        {
         "name": "\"otimos\"",
         "dtype": "object",
         "stats": {
          "unique_count": 3,
          "nan_count": 0,
          "categories": [
           {
            "name": "[[-18.62436025]\n [-18.62435975]]",
            "count": 1
           },
           {
            "name": "[[-98.00000177]\n [-98.        ]]",
            "count": 1
           },
           {
            "name": "[[-23.32500814]\n [-23.3250123 ]]",
            "count": 1
           }
          ]
         }
        },
        {
         "name": "Opt. Value",
         "dtype": "float64",
         "stats": {
          "unique_count": 3,
          "nan_count": 0,
          "min": "3.138105948393181e-12",
          "max": "2.4746e-06",
          "histogram": [
           {
            "bin_start": 3.138105948393181e-12,
            "bin_end": 2.474628242953536e-7,
            "count": 2
           },
           {
            "bin_start": 2.474628242953536e-7,
            "bin_end": 4.949225104847588e-7,
            "count": 0
           },
           {
            "bin_start": 4.949225104847588e-7,
            "bin_end": 7.42382196674164e-7,
            "count": 0
           },
           {
            "bin_start": 7.42382196674164e-7,
            "bin_end": 9.89841882863569e-7,
            "count": 0
           },
           {
            "bin_start": 9.89841882863569e-7,
            "bin_end": 0.0000012373015690529744,
            "count": 0
           },
           {
            "bin_start": 0.0000012373015690529744,
            "bin_end": 0.0000014847612552423794,
            "count": 0
           },
           {
            "bin_start": 0.0000014847612552423794,
            "bin_end": 0.0000017322209414317845,
            "count": 0
           },
           {
            "bin_start": 0.0000017322209414317845,
            "bin_end": 0.00000197968062762119,
            "count": 0
           },
           {
            "bin_start": 0.00000197968062762119,
            "bin_end": 0.000002227140313810595,
            "count": 0
           },
           {
            "bin_start": 0.000002227140313810595,
            "bin_end": 0.0000024746,
            "count": 1
           }
          ]
         }
        },
        {
         "name": "Error",
         "dtype": "float64",
         "stats": {
          "unique_count": 3,
          "nan_count": 0,
          "min": "1.9679243509236258e-06",
          "max": "1.6701579349224466e-05",
          "histogram": [
           {
            "bin_start": 0.0000019679243509236258,
            "bin_end": 0.0000034412898507537096,
            "count": 1
           },
           {
            "bin_start": 0.0000034412898507537096,
            "bin_end": 0.0000049146553505837935,
            "count": 0
           },
           {
            "bin_start": 0.0000049146553505837935,
            "bin_end": 0.000006388020850413877,
            "count": 0
           },
           {
            "bin_start": 0.000006388020850413877,
            "bin_end": 0.00000786138635024396,
            "count": 0
           },
           {
            "bin_start": 0.00000786138635024396,
            "bin_end": 0.000009334751850074046,
            "count": 0
           },
           {
            "bin_start": 0.000009334751850074046,
            "bin_end": 0.000010808117349904129,
            "count": 0
           },
           {
            "bin_start": 0.000010808117349904129,
            "bin_end": 0.000012281482849734212,
            "count": 1
           },
           {
            "bin_start": 0.000012281482849734212,
            "bin_end": 0.000013754848349564298,
            "count": 0
           },
           {
            "bin_start": 0.000013754848349564298,
            "bin_end": 0.00001522821384939438,
            "count": 0
           },
           {
            "bin_start": 0.00001522821384939438,
            "bin_end": 0.000016701579349224466,
            "count": 1
           }
          ]
         }
        },
        {
         "name": "_deepnote_index_column",
         "dtype": "object"
        }
       ],
       "rows_top": [
        {
         "x0": "[[10], [20]]",
         "iteracoes": 1089233,
         "LoopArmijo": 8389957,
         "\"otimos\"": "[[-18.62436025]\n [-18.62435975]]",
         "Opt. Value": 0.0000024746,
         "Error": 0.0000019679243509236258,
         "_deepnote_index_column": "Gradiente"
        },
        {
         "x0": "[[-99], [-98]]",
         "iteracoes": 10,
         "LoopArmijo": 11,
         "\"otimos\"": "[[-98.00000177]\n [-98.        ]]",
         "Opt. Value": 3.138105948393181e-12,
         "Error": 0.000016701579349224466,
         "_deepnote_index_column": "Newton"
        },
        {
         "x0": "[[-7], [-5]]",
         "iteracoes": 39,
         "LoopArmijo": 65,
         "\"otimos\"": "[[-23.32500814]\n [-23.3250123 ]]",
         "Opt. Value": 9.52e-8,
         "Error": 0.000011810900880643187,
         "_deepnote_index_column": "Quase Newton"
        }
       ],
       "rows_bottom": null
      },
      "text/plain": "                          x0  iteracoes  LoopArmijo  \\\nMetodo                                                \nGradiente       [[10], [20]]    1089233     8389957   \nNewton        [[-99], [-98]]         10          11   \nQuase Newton    [[-7], [-5]]         39          65   \n\n                                                    \"otimos\"    Opt. Value  \\\nMetodo                                                                       \nGradiente       [[-18.62436025138362], [-18.62435975139013]]  2.474600e-06   \nNewton                          [[-98.00000177147], [-98.0]]  3.138106e-12   \nQuase Newton  [[-23.325008137681888], [-23.325012296942706]]  9.520000e-08   \n\n                 Error  \nMetodo                  \nGradiente     0.000002  \nNewton        0.000017  \nQuase Newton  0.000012  ",
      "text/html": "<div>\n<style scoped>\n    .dataframe tbody tr th:only-of-type {\n        vertical-align: middle;\n    }\n\n    .dataframe tbody tr th {\n        vertical-align: top;\n    }\n\n    .dataframe thead th {\n        text-align: right;\n    }\n</style>\n<table border=\"1\" class=\"dataframe\">\n  <thead>\n    <tr style=\"text-align: right;\">\n      <th></th>\n      <th>x0</th>\n      <th>iteracoes</th>\n      <th>LoopArmijo</th>\n      <th>\"otimos\"</th>\n      <th>Opt. Value</th>\n      <th>Error</th>\n    </tr>\n    <tr>\n      <th>Metodo</th>\n      <th></th>\n      <th></th>\n      <th></th>\n      <th></th>\n      <th></th>\n      <th></th>\n    </tr>\n  </thead>\n  <tbody>\n    <tr>\n      <th>Gradiente</th>\n      <td>[[10], [20]]</td>\n      <td>1089233</td>\n      <td>8389957</td>\n      <td>[[-18.62436025138362], [-18.62435975139013]]</td>\n      <td>2.474600e-06</td>\n      <td>0.000002</td>\n    </tr>\n    <tr>\n      <th>Newton</th>\n      <td>[[-99], [-98]]</td>\n      <td>10</td>\n      <td>11</td>\n      <td>[[-98.00000177147], [-98.0]]</td>\n      <td>3.138106e-12</td>\n      <td>0.000017</td>\n    </tr>\n    <tr>\n      <th>Quase Newton</th>\n      <td>[[-7], [-5]]</td>\n      <td>39</td>\n      <td>65</td>\n      <td>[[-23.325008137681888], [-23.325012296942706]]</td>\n      <td>9.520000e-08</td>\n      <td>0.000012</td>\n    </tr>\n  </tbody>\n</table>\n</div>"
     },
     "metadata": {}
    }
   ],
   "execution_count": 240
  },
  {
   "cell_type": "markdown",
   "source": "#### Comparando agora, os diferentes Métodos para um mesmo ponto inicial $ x=\\Bigg (\\begin{matrix}-5\\\\ -6 \\end{matrix}\\Bigg )$",
   "metadata": {
    "tags": [],
    "cell_id": "00042-5c44b0e7-3bf6-4585-975d-fbc5e989401d",
    "deepnote_cell_type": "markdown"
   }
  },
  {
   "cell_type": "code",
   "source": "x0 = [[-5],[-6]]\notimoGradiente,kGradiente,armijoGradiente,errGradiente = gradientMethod(function,gradiente,x0,0.7,0.5,1e-6)",
   "metadata": {
    "tags": [],
    "cell_id": "00044-0a23e970-791d-4aab-8978-0eec9a77f0e9",
    "deepnote_to_be_reexecuted": false,
    "source_hash": "1604269c",
    "execution_start": 1622329588048,
    "execution_millis": 283566,
    "deepnote_cell_type": "code"
   },
   "outputs": [],
   "execution_count": 241
  },
  {
   "cell_type": "code",
   "source": "otimoNewton,kNewton,armijoNewton,errNewton = newtonMethod(function,gradiente,x0,0.7,0.5,1e-6,useArmijo=1)\notimoQseNewton,kQseNewton,armQseNewton,errQseNewton = almostNewtonMethod(function,gradiente,x0,0.7,0.5,1e-6,alpha=0.8)",
   "metadata": {
    "tags": [],
    "cell_id": "00044-e9d13270-5e40-4832-a2a5-35585e055428",
    "deepnote_to_be_reexecuted": false,
    "source_hash": "196a1ab",
    "execution_start": 1622332427354,
    "execution_millis": 7,
    "deepnote_cell_type": "code"
   },
   "outputs": [
    {
     "name": "stdout",
     "text": "Condicao de parada atingida, ponto x de minimo nao modificado (x^k = x^(k-1))\n",
     "output_type": "stream"
    }
   ],
   "execution_count": 296
  },
  {
   "cell_type": "code",
   "source": "data1={'Metodo':['Gradiente','Newton','Quase Newton'],'x0':[x0,x0,x0],'iterações':[kGradiente,kNewton,kQseNewton],'LoopArmijo':[armijoGradiente,armijoNewton,armQseNewton],'\"otimos\"':[otimoGradiente,otimoNewton,otimoQseNewton],'Opt. Value':[round(function(otimoGradiente),10),function(otimoNewton),round(function(otimoQseNewton),10)],'Error':[np.linalg.norm(errGradiente),np.linalg.norm(errNewton),np.linalg.norm(errQseNewton)]}",
   "metadata": {
    "tags": [],
    "cell_id": "00045-fb2c0035-6645-4003-b4c1-bd9e0307c02f",
    "deepnote_to_be_reexecuted": false,
    "source_hash": "5d08b0c1",
    "execution_start": 1622337021662,
    "execution_millis": 0,
    "deepnote_cell_type": "code"
   },
   "outputs": [],
   "execution_count": 346
  },
  {
   "cell_type": "code",
   "source": "df1 = pd.DataFrame(data1)\ndf1.set_index('Metodo')",
   "metadata": {
    "tags": [],
    "cell_id": "00046-8121308b-9cf1-4cac-b9fa-e9729f9e5fc9",
    "deepnote_to_be_reexecuted": false,
    "source_hash": "87653581",
    "execution_start": 1622337024063,
    "execution_millis": 10,
    "deepnote_cell_type": "code"
   },
   "outputs": [
    {
     "output_type": "execute_result",
     "execution_count": 347,
     "data": {
      "application/vnd.deepnote.dataframe.v2+json": {
       "row_count": 3,
       "column_count": 6,
       "columns": [
        {
         "name": "x0",
         "dtype": "object",
         "stats": {
          "unique_count": 3,
          "nan_count": 0,
          "categories": [
           {
            "name": "[[-5], [-6]]",
            "count": 3
           }
          ]
         }
        },
        {
         "name": "iterações",
         "dtype": "int64",
         "stats": {
          "unique_count": 3,
          "nan_count": 0,
          "min": "34",
          "max": "2234004",
          "histogram": [
           {
            "bin_start": 34,
            "bin_end": 223431,
            "count": 2
           },
           {
            "bin_start": 223431,
            "bin_end": 446828,
            "count": 0
           },
           {
            "bin_start": 446828,
            "bin_end": 670225,
            "count": 0
           },
           {
            "bin_start": 670225,
            "bin_end": 893622,
            "count": 0
           },
           {
            "bin_start": 893622,
            "bin_end": 1117019,
            "count": 0
           },
           {
            "bin_start": 1117019,
            "bin_end": 1340416,
            "count": 0
           },
           {
            "bin_start": 1340416,
            "bin_end": 1563813,
            "count": 0
           },
           {
            "bin_start": 1563813,
            "bin_end": 1787210,
            "count": 0
           },
           {
            "bin_start": 1787210,
            "bin_end": 2010607,
            "count": 0
           },
           {
            "bin_start": 2010607,
            "bin_end": 2234004,
            "count": 1
           }
          ]
         }
        },
        {
         "name": "LoopArmijo",
         "dtype": "int64",
         "stats": {
          "unique_count": 3,
          "nan_count": 0,
          "min": "4",
          "max": "3204441",
          "histogram": [
           {
            "bin_start": 4,
            "bin_end": 320447.7,
            "count": 2
           },
           {
            "bin_start": 320447.7,
            "bin_end": 640891.4,
            "count": 0
           },
           {
            "bin_start": 640891.4,
            "bin_end": 961335.1000000001,
            "count": 0
           },
           {
            "bin_start": 961335.1000000001,
            "bin_end": 1281778.8,
            "count": 0
           },
           {
            "bin_start": 1281778.8,
            "bin_end": 1602222.5,
            "count": 0
           },
           {
            "bin_start": 1602222.5,
            "bin_end": 1922666.2000000002,
            "count": 0
           },
           {
            "bin_start": 1922666.2000000002,
            "bin_end": 2243109.9,
            "count": 0
           },
           {
            "bin_start": 2243109.9,
            "bin_end": 2563553.6,
            "count": 0
           },
           {
            "bin_start": 2563553.6,
            "bin_end": 2883997.3000000003,
            "count": 0
           },
           {
            "bin_start": 2883997.3000000003,
            "bin_end": 3204441,
            "count": 1
           }
          ]
         }
        },
        {
         "name": "\"otimos\"",
         "dtype": "object",
         "stats": {
          "unique_count": 3,
          "nan_count": 0,
          "categories": [
           {
            "name": "[[-18.49375421]\n [-18.49375377]]",
            "count": 1
           },
           {
            "name": "[[-6.00165546]\n [-5.99834454]]",
            "count": 1
           },
           {
            "name": "[[-32.975325  ]\n [-32.97532485]]",
            "count": 1
           }
          ]
         }
        },
        {
         "name": "Opt. Value",
         "dtype": "float64",
         "stats": {
          "unique_count": 3,
          "nan_count": 0,
          "min": "1e-10",
          "max": "0.01561804313761096",
          "histogram": [
           {
            "bin_start": 1e-10,
            "bin_end": 0.0015618044037610961,
            "count": 2
           },
           {
            "bin_start": 0.0015618044037610961,
            "bin_end": 0.0031236087075221922,
            "count": 0
           },
           {
            "bin_start": 0.0031236087075221922,
            "bin_end": 0.004685413011283288,
            "count": 0
           },
           {
            "bin_start": 0.004685413011283288,
            "bin_end": 0.006247217315044384,
            "count": 0
           },
           {
            "bin_start": 0.006247217315044384,
            "bin_end": 0.00780902161880548,
            "count": 0
           },
           {
            "bin_start": 0.00780902161880548,
            "bin_end": 0.009370825922566576,
            "count": 0
           },
           {
            "bin_start": 0.009370825922566576,
            "bin_end": 0.010932630226327672,
            "count": 0
           },
           {
            "bin_start": 0.010932630226327672,
            "bin_end": 0.012494434530088768,
            "count": 0
           },
           {
            "bin_start": 0.012494434530088768,
            "bin_end": 0.014056238833849865,
            "count": 0
           },
           {
            "bin_start": 0.014056238833849865,
            "bin_end": 0.01561804313761096,
            "count": 1
           }
          ]
         }
        },
        {
         "name": "Error",
         "dtype": "float64",
         "stats": {
          "unique_count": 3,
          "nan_count": 0,
          "min": "4.26554302404091e-07",
          "max": "0.007839422551860271",
          "histogram": [
           {
            "bin_start": 4.26554302404091e-7,
            "bin_end": 0.0007843261540581908,
            "count": 2
           },
           {
            "bin_start": 0.0007843261540581908,
            "bin_end": 0.0015682257538139775,
            "count": 0
           },
           {
            "bin_start": 0.0015682257538139775,
            "bin_end": 0.002352125353569764,
            "count": 0
           },
           {
            "bin_start": 0.002352125353569764,
            "bin_end": 0.0031360249533255507,
            "count": 0
           },
           {
            "bin_start": 0.0031360249533255507,
            "bin_end": 0.003919924553081338,
            "count": 0
           },
           {
            "bin_start": 0.003919924553081338,
            "bin_end": 0.004703824152837124,
            "count": 0
           },
           {
            "bin_start": 0.004703824152837124,
            "bin_end": 0.005487723752592911,
            "count": 0
           },
           {
            "bin_start": 0.005487723752592911,
            "bin_end": 0.006271623352348698,
            "count": 0
           },
           {
            "bin_start": 0.006271623352348698,
            "bin_end": 0.0070555229521044845,
            "count": 0
           },
           {
            "bin_start": 0.0070555229521044845,
            "bin_end": 0.007839422551860271,
            "count": 1
           }
          ]
         }
        },
        {
         "name": "_deepnote_index_column",
         "dtype": "object"
        }
       ],
       "rows_top": [
        {
         "x0": "[[-5], [-6]]",
         "iterações": 2234004,
         "LoopArmijo": 3204441,
         "\"otimos\"": "[[-18.49375421]\n [-18.49375377]]",
         "Opt. Value": 0.0000027091,
         "Error": 0.0000013306060790298307,
         "_deepnote_index_column": "Gradiente"
        },
        {
         "x0": "[[-5], [-6]]",
         "iterações": 41,
         "LoopArmijo": 3403,
         "\"otimos\"": "[[-6.00165546]\n [-5.99834454]]",
         "Opt. Value": 0.01561804313761096,
         "Error": 0.007839422551860271,
         "_deepnote_index_column": "Newton"
        },
        {
         "x0": "[[-5], [-6]]",
         "iterações": 34,
         "LoopArmijo": 4,
         "\"otimos\"": "[[-32.975325  ]\n [-32.97532485]]",
         "Opt. Value": 1e-10,
         "Error": 4.26554302404091e-7,
         "_deepnote_index_column": "Quase Newton"
        }
       ],
       "rows_bottom": null
      },
      "text/plain": "                        x0  iterações  LoopArmijo  \\\nMetodo                                              \nGradiente     [[-5], [-6]]    2234004     3204441   \nNewton        [[-5], [-6]]         41        3403   \nQuase Newton  [[-5], [-6]]         34           4   \n\n                                                   \"otimos\"    Opt. Value  \\\nMetodo                                                                      \nGradiente     [[-18.493754213403868], [-18.49375377443792]]  2.709100e-06   \nNewton           [[-6.00165545934539], [-5.99834454065461]]  1.561804e-02   \nQuase Newton    [[-32.975324999355], [-32.975324848524764]]  1.000000e-10   \n\n                     Error  \nMetodo                      \nGradiente     1.330606e-06  \nNewton        7.839423e-03  \nQuase Newton  4.265543e-07  ",
      "text/html": "<div>\n<style scoped>\n    .dataframe tbody tr th:only-of-type {\n        vertical-align: middle;\n    }\n\n    .dataframe tbody tr th {\n        vertical-align: top;\n    }\n\n    .dataframe thead th {\n        text-align: right;\n    }\n</style>\n<table border=\"1\" class=\"dataframe\">\n  <thead>\n    <tr style=\"text-align: right;\">\n      <th></th>\n      <th>x0</th>\n      <th>iterações</th>\n      <th>LoopArmijo</th>\n      <th>\"otimos\"</th>\n      <th>Opt. Value</th>\n      <th>Error</th>\n    </tr>\n    <tr>\n      <th>Metodo</th>\n      <th></th>\n      <th></th>\n      <th></th>\n      <th></th>\n      <th></th>\n      <th></th>\n    </tr>\n  </thead>\n  <tbody>\n    <tr>\n      <th>Gradiente</th>\n      <td>[[-5], [-6]]</td>\n      <td>2234004</td>\n      <td>3204441</td>\n      <td>[[-18.493754213403868], [-18.49375377443792]]</td>\n      <td>2.709100e-06</td>\n      <td>1.330606e-06</td>\n    </tr>\n    <tr>\n      <th>Newton</th>\n      <td>[[-5], [-6]]</td>\n      <td>41</td>\n      <td>3403</td>\n      <td>[[-6.00165545934539], [-5.99834454065461]]</td>\n      <td>1.561804e-02</td>\n      <td>7.839423e-03</td>\n    </tr>\n    <tr>\n      <th>Quase Newton</th>\n      <td>[[-5], [-6]]</td>\n      <td>34</td>\n      <td>4</td>\n      <td>[[-32.975324999355], [-32.975324848524764]]</td>\n      <td>1.000000e-10</td>\n      <td>4.265543e-07</td>\n    </tr>\n  </tbody>\n</table>\n</div>"
     },
     "metadata": {}
    }
   ],
   "execution_count": 347
  },
  {
   "cell_type": "markdown",
   "source": "#### Fazendo uma terceira tabela para valores mais longes do ótimo $x_{longe} = \\Bigg ( \\begin{matrix} 5 \\\\ 6 \\end{matrix}\\Bigg )$",
   "metadata": {
    "tags": [],
    "cell_id": "00047-abfa3b41-c256-4abb-aad5-aa9d7641ff9c",
    "deepnote_to_be_reexecuted": false,
    "source_hash": "ce540285",
    "execution_start": 1622327735906,
    "execution_millis": 1,
    "deepnote_cell_type": "markdown"
   },
   "outputs": [],
   "execution_count": 160
  },
  {
   "cell_type": "code",
   "source": "x0_longe = [[5],[6]]\notimoGradienteL,kGradienteL,armijoGradienteL,errGradienteL = gradientMethod(function,gradiente,x0_longe,0.7,0.5,1e-6)\notimoNewtonL,kNewtonL,armijoNewtonL,errNewtonL = newtonMethod(function,gradiente,x0_longe,0.7,0.5,1e-6,useArmijo=1)\notimoQseNewtonL,kQseNewtonL,armQseNewtonL,errQseNewtonL = almostNewtonMethod(function,gradiente,x0_longe,0.7,0.5,1e-6,alpha=0.8)",
   "metadata": {
    "tags": [],
    "cell_id": "00048-81f4be62-e888-4a88-a835-7c4b9fc82266",
    "deepnote_to_be_reexecuted": false,
    "source_hash": "99ad1fc7",
    "execution_start": 1622336497995,
    "execution_millis": 272472,
    "is_output_hidden": false,
    "deepnote_cell_type": "code"
   },
   "outputs": [
    {
     "name": "stdout",
     "text": "Condicao de parada atingida, ponto x de minimo nao modificado (x^k = x^(k-1))\n",
     "output_type": "stream"
    }
   ],
   "execution_count": 343
  },
  {
   "cell_type": "code",
   "source": "data2={'Metodo':['Gradiente','Newton','Quase Newton'],'x0':[x0_longe,x0_longe,x0_longe],'iterações':[kGradienteL,kNewtonL,kQseNewtonL],'LoopArmijo':[armijoGradienteL,armijoNewtonL,armQseNewtonL],'\"otimos\"':[otimoGradienteL,otimoNewtonL,otimoQseNewtonL],'Opt. Value':[round(function(otimoGradienteL),10),function(otimoNewtonL),round(function(otimoQseNewtonL),10)],'Error':[np.linalg.norm(errGradienteL),np.linalg.norm(errNewtonL),np.linalg.norm(errQseNewtonL)]}",
   "metadata": {
    "tags": [],
    "cell_id": "00049-56ff617a-8057-4440-9f60-8552d6bbf7d1",
    "deepnote_to_be_reexecuted": false,
    "source_hash": "c9b5c1b5",
    "execution_start": 1622337085933,
    "execution_millis": 2,
    "deepnote_cell_type": "code"
   },
   "outputs": [],
   "execution_count": 348
  },
  {
   "cell_type": "code",
   "source": "df2 = pd.DataFrame(data2)\ndf2.set_index('Metodo')",
   "metadata": {
    "tags": [],
    "cell_id": "00051-de181bd8-6d21-412c-a3d5-a717306c5c42",
    "deepnote_to_be_reexecuted": false,
    "source_hash": "18e29a6b",
    "execution_start": 1622337088365,
    "execution_millis": 14,
    "deepnote_cell_type": "code"
   },
   "outputs": [
    {
     "output_type": "execute_result",
     "execution_count": 349,
     "data": {
      "application/vnd.deepnote.dataframe.v2+json": {
       "row_count": 3,
       "column_count": 6,
       "columns": [
        {
         "name": "x0",
         "dtype": "object",
         "stats": {
          "unique_count": 3,
          "nan_count": 0,
          "categories": [
           {
            "name": "[[5], [6]]",
            "count": 3
           }
          ]
         }
        },
        {
         "name": "iterações",
         "dtype": "int64",
         "stats": {
          "unique_count": 3,
          "nan_count": 0,
          "min": "25",
          "max": "2234267",
          "histogram": [
           {
            "bin_start": 25,
            "bin_end": 223449.2,
            "count": 2
           },
           {
            "bin_start": 223449.2,
            "bin_end": 446873.4,
            "count": 0
           },
           {
            "bin_start": 446873.4,
            "bin_end": 670297.6000000001,
            "count": 0
           },
           {
            "bin_start": 670297.6000000001,
            "bin_end": 893721.8,
            "count": 0
           },
           {
            "bin_start": 893721.8,
            "bin_end": 1117146,
            "count": 0
           },
           {
            "bin_start": 1117146,
            "bin_end": 1340570.2000000002,
            "count": 0
           },
           {
            "bin_start": 1340570.2000000002,
            "bin_end": 1563994.4000000001,
            "count": 0
           },
           {
            "bin_start": 1563994.4000000001,
            "bin_end": 1787418.6,
            "count": 0
           },
           {
            "bin_start": 1787418.6,
            "bin_end": 2010842.8,
            "count": 0
           },
           {
            "bin_start": 2010842.8,
            "bin_end": 2234267,
            "count": 1
           }
          ]
         }
        },
        {
         "name": "LoopArmijo",
         "dtype": "int64",
         "stats": {
          "unique_count": 3,
          "nan_count": 0,
          "min": "9",
          "max": "3204830",
          "histogram": [
           {
            "bin_start": 9,
            "bin_end": 320491.1,
            "count": 2
           },
           {
            "bin_start": 320491.1,
            "bin_end": 640973.2,
            "count": 0
           },
           {
            "bin_start": 640973.2,
            "bin_end": 961455.2999999999,
            "count": 0
           },
           {
            "bin_start": 961455.2999999999,
            "bin_end": 1281937.4,
            "count": 0
           },
           {
            "bin_start": 1281937.4,
            "bin_end": 1602419.5,
            "count": 0
           },
           {
            "bin_start": 1602419.5,
            "bin_end": 1922901.5999999999,
            "count": 0
           },
           {
            "bin_start": 1922901.5999999999,
            "bin_end": 2243383.6999999997,
            "count": 0
           },
           {
            "bin_start": 2243383.6999999997,
            "bin_end": 2563865.8,
            "count": 0
           },
           {
            "bin_start": 2563865.8,
            "bin_end": 2884347.9,
            "count": 0
           },
           {
            "bin_start": 2884347.9,
            "bin_end": 3204830,
            "count": 1
           }
          ]
         }
        },
        {
         "name": "\"otimos\"",
         "dtype": "object",
         "stats": {
          "unique_count": 3,
          "nan_count": 0,
          "categories": [
           {
            "name": "[[-18.4937459]\n [-18.4937454]]",
            "count": 1
           },
           {
            "name": "[[4.54019203]\n [6.94980797]]",
            "count": 1
           },
           {
            "name": "[[-19.75558716]\n [-19.75558716]]",
            "count": 1
           }
          ]
         }
        },
        {
         "name": "Opt. Value",
         "dtype": "float64",
         "stats": {
          "unique_count": 3,
          "nan_count": 0,
          "min": "1.1297e-06",
          "max": "29.07290598879696",
          "histogram": [
           {
            "bin_start": 0.0000011297,
            "bin_end": 2.9072916156096964,
            "count": 2
           },
           {
            "bin_start": 2.9072916156096964,
            "bin_end": 5.814582101519393,
            "count": 0
           },
           {
            "bin_start": 5.814582101519393,
            "bin_end": 8.721872587429088,
            "count": 0
           },
           {
            "bin_start": 8.721872587429088,
            "bin_end": 11.629163073338784,
            "count": 0
           },
           {
            "bin_start": 11.629163073338784,
            "bin_end": 14.53645355924848,
            "count": 0
           },
           {
            "bin_start": 14.53645355924848,
            "bin_end": 17.443744045158176,
            "count": 0
           },
           {
            "bin_start": 17.443744045158176,
            "bin_end": 20.35103453106787,
            "count": 0
           },
           {
            "bin_start": 20.35103453106787,
            "bin_end": 23.25832501697757,
            "count": 0
           },
           {
            "bin_start": 23.25832501697757,
            "bin_end": 26.165615502887267,
            "count": 0
           },
           {
            "bin_start": 26.165615502887267,
            "bin_end": 29.07290598879696,
            "count": 1
           }
          ]
         }
        },
        {
         "name": "Error",
         "dtype": "float64",
         "stats": {
          "unique_count": 3,
          "nan_count": 0,
          "min": "7.830550929296351e-07",
          "max": "12.292092593645995",
          "histogram": [
           {
            "bin_start": 7.830550929296351e-7,
            "bin_end": 1.2292099641141832,
            "count": 2
           },
           {
            "bin_start": 1.2292099641141832,
            "bin_end": 2.458419145173273,
            "count": 0
           },
           {
            "bin_start": 2.458419145173273,
            "bin_end": 3.687628326232363,
            "count": 0
           },
           {
            "bin_start": 3.687628326232363,
            "bin_end": 4.916837507291453,
            "count": 0
           },
           {
            "bin_start": 4.916837507291453,
            "bin_end": 6.146046688350544,
            "count": 0
           },
           {
            "bin_start": 6.146046688350544,
            "bin_end": 7.375255869409633,
            "count": 0
           },
           {
            "bin_start": 7.375255869409633,
            "bin_end": 8.604465050468724,
            "count": 0
           },
           {
            "bin_start": 8.604465050468724,
            "bin_end": 9.833674231527814,
            "count": 0
           },
           {
            "bin_start": 9.833674231527814,
            "bin_end": 11.062883412586904,
            "count": 0
           },
           {
            "bin_start": 11.062883412586904,
            "bin_end": 12.292092593645995,
            "count": 1
           }
          ]
         }
        },
        {
         "name": "_deepnote_index_column",
         "dtype": "object"
        }
       ],
       "rows_top": [
        {
         "x0": "[[5], [6]]",
         "iterações": 2234267,
         "LoopArmijo": 3204830,
         "\"otimos\"": "[[-18.4937459]\n [-18.4937454]]",
         "Opt. Value": 0.0000027091,
         "Error": 0.0000013306225592149871,
         "_deepnote_index_column": "Gradiente"
        },
        {
         "x0": "[[5], [6]]",
         "iterações": 41,
         "LoopArmijo": 4039,
         "\"otimos\"": "[[4.54019203]\n [6.94980797]]",
         "Opt. Value": 29.07290598879696,
         "Error": 12.292092593645995,
         "_deepnote_index_column": "Newton"
        },
        {
         "x0": "[[5], [6]]",
         "iterações": 25,
         "LoopArmijo": 9,
         "\"otimos\"": "[[-19.75558716]\n [-19.75558716]]",
         "Opt. Value": 0.0000011297,
         "Error": 7.830550929296351e-7,
         "_deepnote_index_column": "Quase Newton"
        }
       ],
       "rows_bottom": null
      },
      "text/plain": "                      x0  iterações  LoopArmijo  \\\nMetodo                                            \nGradiente     [[5], [6]]    2234267     3204830   \nNewton        [[5], [6]]         41        4039   \nQuase Newton  [[5], [6]]         25           9   \n\n                                                   \"otimos\"  Opt. Value  \\\nMetodo                                                                    \nGradiente      [[-18.493745895902048], [-18.4937453959141]]    0.000003   \nNewton           [[4.540192034601056], [6.949807965399015]]   29.072906   \nQuase Newton  [[-19.755587158324868], [-19.75558715831691]]    0.000001   \n\n                     Error  \nMetodo                      \nGradiente     1.330623e-06  \nNewton        1.229209e+01  \nQuase Newton  7.830551e-07  ",
      "text/html": "<div>\n<style scoped>\n    .dataframe tbody tr th:only-of-type {\n        vertical-align: middle;\n    }\n\n    .dataframe tbody tr th {\n        vertical-align: top;\n    }\n\n    .dataframe thead th {\n        text-align: right;\n    }\n</style>\n<table border=\"1\" class=\"dataframe\">\n  <thead>\n    <tr style=\"text-align: right;\">\n      <th></th>\n      <th>x0</th>\n      <th>iterações</th>\n      <th>LoopArmijo</th>\n      <th>\"otimos\"</th>\n      <th>Opt. Value</th>\n      <th>Error</th>\n    </tr>\n    <tr>\n      <th>Metodo</th>\n      <th></th>\n      <th></th>\n      <th></th>\n      <th></th>\n      <th></th>\n      <th></th>\n    </tr>\n  </thead>\n  <tbody>\n    <tr>\n      <th>Gradiente</th>\n      <td>[[5], [6]]</td>\n      <td>2234267</td>\n      <td>3204830</td>\n      <td>[[-18.493745895902048], [-18.4937453959141]]</td>\n      <td>0.000003</td>\n      <td>1.330623e-06</td>\n    </tr>\n    <tr>\n      <th>Newton</th>\n      <td>[[5], [6]]</td>\n      <td>41</td>\n      <td>4039</td>\n      <td>[[4.540192034601056], [6.949807965399015]]</td>\n      <td>29.072906</td>\n      <td>1.229209e+01</td>\n    </tr>\n    <tr>\n      <th>Quase Newton</th>\n      <td>[[5], [6]]</td>\n      <td>25</td>\n      <td>9</td>\n      <td>[[-19.755587158324868], [-19.75558715831691]]</td>\n      <td>0.000001</td>\n      <td>7.830551e-07</td>\n    </tr>\n  </tbody>\n</table>\n</div>"
     },
     "metadata": {}
    }
   ],
   "execution_count": 349
  },
  {
   "cell_type": "markdown",
   "source": "## Conclusão geral:\n\nSe temos um problema, onde sabemos que o ótimo e pontos críticos são inatingíveis, é desnecessário utilizar qualquer um dos Métodos apresentados que buscam por algum ponto critico. Para exemplificar a conclusão chegada, supondo um valor melhor para $f(x)$ sem utilizar nenhum método, somente a partir da análise intuitiva do comportamento da função (custo computacional mínimo):",
   "metadata": {
    "tags": [],
    "cell_id": "00062-ed3938ee-a06d-4fb3-a9de-a0b34fb44314",
    "deepnote_cell_type": "markdown"
   }
  },
  {
   "cell_type": "code",
   "source": "function([[-999],[-999]])",
   "metadata": {
    "tags": [],
    "cell_id": "00063-f38df722-f364-4c02-a33d-87a11da9491a",
    "deepnote_to_be_reexecuted": false,
    "source_hash": "309ede30",
    "execution_start": 1622337751857,
    "execution_millis": 16,
    "deepnote_cell_type": "code"
   },
   "outputs": [
    {
     "output_type": "execute_result",
     "execution_count": 368,
     "data": {
      "text/plain": "1.8665272370064378e-301"
     },
     "metadata": {}
    }
   ],
   "execution_count": 368
  },
  {
   "cell_type": "markdown",
   "source": "E quanto menor o valor de $x_1$ e $x_2$ em $x^*$, menor será o valor de $f(x^*)$, admitindo que \"andamos\" na direção em que $x_1 = x_2$  e $x_1 \\rightarrow - \\infty$ :",
   "metadata": {
    "tags": [],
    "cell_id": "00064-d56da301-8e23-4624-a778-569d6bbb33ee",
    "deepnote_cell_type": "markdown"
   }
  },
  {
   "cell_type": "code",
   "source": "function([[-1074],[-1074]])",
   "metadata": {
    "tags": [],
    "cell_id": "00065-6eb8cfa6-9e70-4085-9e67-416767f53854",
    "deepnote_to_be_reexecuted": false,
    "source_hash": "5564cc73",
    "execution_start": 1622337819827,
    "execution_millis": 20,
    "deepnote_cell_type": "code"
   },
   "outputs": [
    {
     "output_type": "execute_result",
     "execution_count": 377,
     "data": {
      "text/plain": "5e-324"
     },
     "metadata": {}
    }
   ],
   "execution_count": 377
  },
  {
   "cell_type": "markdown",
   "source": "<a style='text-decoration:none;line-height:16px;display:flex;color:#5B5B62;padding:10px;justify-content:end;' href='https://deepnote.com?utm_source=created-in-deepnote-cell&projectId=7a763e48-8c1e-4f84-b8d4-63cf5145c2e1' target=\"_blank\">\n<img alt='Created in deepnote.com' style='display:inline;max-height:16px;margin:0px;margin-right:7.5px;' src='data:image/svg+xml;base64,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' > </img>\nCreated in <span style='font-weight:600;margin-left:4px;'>Deepnote</span></a>",
   "metadata": {
    "tags": [],
    "created_in_deepnote_cell": true,
    "deepnote_cell_type": "markdown"
   }
  }
 ],
 "nbformat": 4,
 "nbformat_minor": 2,
 "metadata": {
  "deepnote": {
   "is_reactive": false
  },
  "deepnote_execution_queue": [],
  "deepnote_notebook_id": "01ab0440-c127-45c9-bb5f-fccd14ce78d7",
  "kernelspec": {
   "display_name": "Python 3",
   "language": "python",
   "name": "python3"
  },
  "language_info": {
   "codemirror_mode": {
    "name": "ipython",
    "version": 3
   },
   "file_extension": ".py",
   "mimetype": "text/x-python",
   "name": "python",
   "nbconvert_exporter": "python",
   "pygments_lexer": "ipython3",
   "version": "3.7.7"
  }
 }
}